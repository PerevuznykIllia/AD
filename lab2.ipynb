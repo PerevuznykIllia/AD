{
 "cells": [
  {
   "cell_type": "markdown",
   "metadata": {},
   "source": [
    "Засоби підготовки та аналізу даних\n",
    "\n",
    "Лабораторна робота №2\n",
    "\n",
    "ФБ-22 Перевузник Ілля"
   ]
  },
  {
   "cell_type": "markdown",
   "metadata": {},
   "source": [
    "Імпорти"
   ]
  },
  {
   "cell_type": "code",
   "execution_count": 16,
   "metadata": {},
   "outputs": [],
   "source": [
    "import pandas as pd\n",
    "import urllib.request\n",
    "import os\n",
    "from datetime import datetime, date\n",
    "import csv"
   ]
  },
  {
   "cell_type": "markdown",
   "metadata": {},
   "source": [
    "Сторення директорії та ініціалізація змінних"
   ]
  },
  {
   "cell_type": "code",
   "execution_count": 17,
   "metadata": {},
   "outputs": [],
   "source": [
    "directory = 'lab_2'\n",
    "Url = ('https://www.star.nesdis.noaa.gov/smcd/emb/vci/VH/get_TS_admin.php?country=UKR&provinceID={''}&year1=1981&year2=2024&type=Mean')\n",
    "indexes = {1: 22, 2: 24, 3: 23, 4: 25, 5: 3, 6: 4, 7: 8, 8: 19, 9: 20, 10: 21, 11: 9, 13: 10, 14: 11, 15: 12, 16: 13, 17: 14, 18: 15, 19: 16, 21: 17, 22: 18, 23: 6, 24: 1, 25: 2, 26: 7, 27: 5}\n",
    "if not os.path.exists(directory):\n",
    "    os.makedirs(directory)"
   ]
  },
  {
   "cell_type": "markdown",
   "metadata": {},
   "source": [
    "Завантаження та перевірка даних"
   ]
  },
  {
   "cell_type": "code",
   "execution_count": 18,
   "metadata": {},
   "outputs": [
    {
     "name": "stdout",
     "output_type": "stream",
     "text": [
      "file with index 22already exists\n",
      "file with index 24already exists\n",
      "file with index 23already exists\n",
      "file with index 25already exists\n",
      "file with index 3already exists\n",
      "file with index 4already exists\n",
      "file with index 8already exists\n",
      "file with index 19already exists\n",
      "file with index 20already exists\n",
      "file with index 21already exists\n",
      "file with index 9already exists\n",
      "file with index 10already exists\n",
      "file with index 11already exists\n",
      "file with index 12already exists\n",
      "file with index 13already exists\n",
      "file with index 14already exists\n",
      "file with index 15already exists\n",
      "file with index 16already exists\n",
      "file with index 17already exists\n",
      "file with index 18already exists\n",
      "file with index 6already exists\n",
      "file with index 1already exists\n",
      "file with index 2already exists\n",
      "file with index 7already exists\n",
      "file with index 5already exists\n",
      "Success\n"
     ]
    }
   ],
   "source": [
    "for  province_id, index in indexes.items():\n",
    "    existing_file = False\n",
    "    start_of_the_filename = 'NOAA_' + str(index) + '_'\n",
    "    for file_name in os.listdir(directory):\n",
    "        if file_name.startswith(start_of_the_filename):\n",
    "            print('file with index ' + str(index) + 'already exists')\n",
    "            existing_file = True\n",
    "    if not existing_file:\n",
    "        url = Url.format(province_id)\n",
    "        wp = urllib.request.urlopen(url)\n",
    "        text = wp.read()\n",
    "        now = datetime.now()\n",
    "        date_and_time = now.strftime(\"%d-%m-%Y_%H-%M-%S\")\n",
    "        file_path = os.path.join(directory, 'NOAA_' + str(index) + '_' + date_and_time + '.csv')\n",
    "        with open(file_path, 'wb') as out:\n",
    "            out.write(text)\n",
    "        print('file' + file_path + 'was created')\n",
    "print('Success')"
   ]
  },
  {
   "cell_type": "markdown",
   "metadata": {},
   "source": [
    "Створення датафрейму з файлів .csv у нашій директорії"
   ]
  },
  {
   "cell_type": "code",
   "execution_count": 19,
   "metadata": {},
   "outputs": [
    {
     "name": "stdout",
     "output_type": "stream",
     "text": [
      "File all.csv already exists and has been removed.\n",
      "Successfully read file: NOAA_10_17-03-2024_00-32-25.csv\n",
      "Successfully read file: NOAA_11_17-03-2024_00-32-26.csv\n",
      "Successfully read file: NOAA_12_17-03-2024_00-32-27.csv\n",
      "Successfully read file: NOAA_13_17-03-2024_00-32-27.csv\n",
      "Successfully read file: NOAA_14_17-03-2024_00-32-28.csv\n",
      "Successfully read file: NOAA_15_17-03-2024_00-32-29.csv\n",
      "Successfully read file: NOAA_16_17-03-2024_00-32-30.csv\n",
      "Successfully read file: NOAA_17_17-03-2024_00-32-52.csv\n",
      "Successfully read file: NOAA_18_17-03-2024_00-32-53.csv\n",
      "Successfully read file: NOAA_19_17-03-2024_00-32-20.csv\n",
      "Successfully read file: NOAA_1_17-03-2024_00-32-54.csv\n",
      "Successfully read file: NOAA_20_17-03-2024_00-32-20.csv\n",
      "Successfully read file: NOAA_21_17-03-2024_00-32-23.csv\n",
      "Successfully read file: NOAA_22_17-03-2024_00-32-12.csv\n",
      "Successfully read file: NOAA_23_17-03-2024_00-32-15.csv\n"
     ]
    },
    {
     "name": "stderr",
     "output_type": "stream",
     "text": [
      "C:\\Users\\Michael\\AppData\\Local\\Temp\\ipykernel_34652\\2354063348.py:26: FutureWarning: The behavior of DataFrame concatenation with empty or all-NA entries is deprecated. In a future version, this will no longer exclude empty or all-NA columns when determining the result dtypes. To retain the old behavior, exclude the relevant entries before the concat operation.\n",
      "  dataframe = pd.concat([dataframe, df], ignore_index=True)\n"
     ]
    },
    {
     "name": "stdout",
     "output_type": "stream",
     "text": [
      "Successfully read file: NOAA_24_17-03-2024_00-32-13.csv\n",
      "Successfully read file: NOAA_25_17-03-2024_00-32-16.csv\n",
      "Successfully read file: NOAA_2_17-03-2024_00-32-55.csv\n",
      "Successfully read file: NOAA_3_17-03-2024_00-32-17.csv\n",
      "Successfully read file: NOAA_4_17-03-2024_00-32-18.csv\n",
      "Successfully read file: NOAA_5_17-03-2024_00-32-57.csv\n",
      "Successfully read file: NOAA_6_17-03-2024_00-32-54.csv\n",
      "Successfully read file: NOAA_7_17-03-2024_00-32-56.csv\n",
      "Successfully read file: NOAA_8_17-03-2024_00-32-19.csv\n",
      "Successfully read file: NOAA_9_17-03-2024_00-32-24.csv\n",
      "DataFrame saved to: all.csv\n",
      "       Year  Week    SMN     SMT    VCI    TCI    VHI            area\n",
      "0      1982   1.0  0.045  261.12  36.68  41.79  39.23  Кіровоградська\n",
      "1      1982   2.0  0.041  262.61  36.46  35.10  35.78  Кіровоградська\n",
      "2      1982   3.0  0.041  263.82  36.49  30.79  33.64  Кіровоградська\n",
      "3      1982   4.0  0.038  264.71  33.46  28.66  31.06  Кіровоградська\n",
      "4      1982   5.0  0.034  264.76  29.66  30.50  30.08  Кіровоградська\n",
      "...     ...   ...    ...     ...    ...    ...    ...             ...\n",
      "53595  2024   6.0  0.087  265.01  55.93  37.82  46.87        Київська\n",
      "53596  2024   7.0  0.104  268.59  60.95  29.91  45.40        Київська\n",
      "53597  2024   8.0  0.121  271.86  64.85  23.64  44.21        Київська\n",
      "53598  2024   9.0  0.138  274.65  68.03  20.12  44.05        Київська\n",
      "53599  2024  10.0  0.150  276.27  67.09  23.10  45.07        Київська\n",
      "\n",
      "[53600 rows x 8 columns]\n"
     ]
    }
   ],
   "source": [
    "indexes = {\n",
    "    1:'Вінницька', 2:'Волинська', 3:'Дніпропетровська', 4:'Донецька', 5:'Житомирська',\n",
    "    6:'Закарпатська', 7:'Запорізька', 8:'Івано-Франківська', 9:'Київська',\n",
    "    10:'Кіровоградська', 11:'Луганська', 12:'Львівська', 13:'Миколаївська', 14:'Одеська',\n",
    "    15:'Полтавська', 16:'Рівенська', 17:'Сумська', 18:'Тернопільська', 19:'Харківська',\n",
    "    20:'Херсонська', 21:'Хмельницька', 22:'Черкаська', 23:'Чернівецька', 24:'Чернігівська',\n",
    "    25:'Республіка Крим'\n",
    "}\n",
    "def read_files_to_dataframe(lab_2, output_path):\n",
    "    headers = ['Year', 'Week', 'SMN', 'SMT', 'VCI', 'TCI', 'VHI', 'area']\n",
    "    dataframe = pd.DataFrame(columns=headers)\n",
    "    if os.path.exists(output_path):\n",
    "        os.remove(output_path)\n",
    "        print(f'File {output_path} already exists and has been removed.')\n",
    "    for filename in os.listdir(lab_2):\n",
    "        if filename.endswith('.csv'):\n",
    "            file_path = os.path.join(lab_2, filename)\n",
    "            try:\n",
    "                df = pd.read_csv(file_path, skiprows=2, names=headers)\n",
    "                df['Year'] = df['Year'].str.replace('<tt><pre>', '').str.replace('</pre></tt>', '')\n",
    "                area = int(filename.split('_')[1])\n",
    "                df['area'] = area\n",
    "                df['area'] = df['area'].replace({index: area for index, area in indexes.items()})\n",
    "                df = df.drop(df.loc[df['VHI'] == -1].index)\n",
    "                df = df.dropna()\n",
    "                dataframe = pd.concat([dataframe, df], ignore_index=True)\n",
    "                print(f'Successfully read file: {filename}')\n",
    "            except pd.errors.ParserError:\n",
    "                print(f'Error reading {filename}: ParserError')\n",
    "    dataframe.to_csv(output_path, index=False)\n",
    "    print(f'DataFrame saved to: {output_path}')\n",
    "    return dataframe\n",
    "df = read_files_to_dataframe('lab_2', 'all.csv')\n",
    "print(df)\n"
   ]
  },
  {
   "cell_type": "markdown",
   "metadata": {},
   "source": [
    "Перша процедура. Ряд VHI для області за вказаний рік"
   ]
  },
  {
   "cell_type": "code",
   "execution_count": 20,
   "metadata": {},
   "outputs": [
    {
     "name": "stdout",
     "output_type": "stream",
     "text": [
      "VHI data for the year 1999 and area Київська:\n",
      "VHI values: 37.7, 39.39, 43.82, 48.27, 52.55, 53.61, 52.3, 50.36, 47.0, 45.29, 44.57, 44.58, 45.43, 47.24, 51.1, 54.21, 58.33, 64.64, 67.36, 67.42, 64.85, 60.47, 56.36, 51.55, 47.28, 43.78, 43.3, 44.73, 46.39, 48.7, 50.45, 52.75, 53.88, 55.0, 56.07, 54.64, 50.68, 44.68, 41.87, 46.53, 51.19, 49.7, 47.31, 41.86, 38.46, 33.93, 29.4, 28.16, 26.79, 24.0, 21.31, 21.64\n"
     ]
    }
   ],
   "source": [
    "def VHI_of_year_and_area(year, area):\n",
    "    vhi_data = df[(df['Year'] == year) & (df['area'] == area)]\n",
    "    if not vhi_data.empty:\n",
    "        print(f\"VHI data for the year {year} and area {area}:\")\n",
    "        vhi_values = ', '.join(map(str, vhi_data['VHI']))\n",
    "        print(f\"VHI values: {vhi_values}\")\n",
    "    else:\n",
    "        print(\"No data available for the selected year and area.\")\n",
    "\n",
    "year = input(\"Enter the year: \")\n",
    "area = input(\"Enter the area: \")\n",
    "VHI_of_year_and_area(year, area)\n"
   ]
  },
  {
   "cell_type": "markdown",
   "metadata": {},
   "source": [
    "Перша процедура. пошук екстремумів (min та max);"
   ]
  },
  {
   "cell_type": "code",
   "execution_count": 21,
   "metadata": {},
   "outputs": [
    {
     "name": "stdout",
     "output_type": "stream",
     "text": [
      "Minimum VHI value for Київська in 2001 year: 39.03\n",
      "Rows with minimum VHI:\n",
      "Week: 1.0, VHI: 39.03\n",
      "Maximum VHI value for Київська in 2001 year: 80.88\n",
      "Rows with maximum VHI:\n",
      "Week: 21.0, VHI: 80.88\n"
     ]
    }
   ],
   "source": [
    "def VHI_of_minmax(area, year):\n",
    "    found = df[(df[\"area\"] == area) & (df[\"Year\"] == str(year))]\n",
    "    min_v = df[(df['Year'].astype(str) == str(year)) & (df[\"area\"] == area)]['VHI'].min()\n",
    "    max_v = df[(df['Year'].astype(str) == str(year)) & (df[\"area\"] == area)]['VHI'].max()\n",
    "    \n",
    "    print(f\"Minimum VHI value for {area} in {year} year: {min_v}\")\n",
    "    min_row = found[found['VHI'] == min_v]\n",
    "    print(\"Rows with minimum VHI:\")\n",
    "    for index, row in min_row.iterrows():\n",
    "        print(f\"Week: {row['Week']}, VHI: {row['VHI']}\")\n",
    "    \n",
    "    print(f\"Maximum VHI value for {area} in {year} year: {max_v}\")\n",
    "    max_row = found[found['VHI'] == max_v]\n",
    "    print(\"Rows with maximum VHI:\")\n",
    "    for index, row in max_row.iterrows():\n",
    "        print(f\"Week: {row['Week']}, VHI: {row['VHI']}\")\n",
    "\n",
    "area = input('Enter your area: ')\n",
    "year = input('Enter your year: ')\n",
    "VHI_of_minmax(area, year)\n"
   ]
  },
  {
   "cell_type": "markdown",
   "metadata": {},
   "source": [
    "Друга процедура. Ряд VHI за вказаний діапазон років для вказаних областей;"
   ]
  },
  {
   "cell_type": "code",
   "execution_count": 22,
   "metadata": {},
   "outputs": [
    {
     "name": "stdout",
     "output_type": "stream",
     "text": [
      "Year: 1999\n",
      "Area: Черкаська\n",
      "VHI values: 38.74, 39.43, 43.12, 48.17, 52.85, 54.66, 54.68, 53.93, 52.66, 51.15, 48.28, 46.17, 46.93, 48.05, 50.86, 53.03, 57.89, 64.95, 67.39, 66.47, 63.66, 60.1, 57.28, 53.94, 50.54, 47.39, 45.97, 45.94, 46.13, 47.61, 49.44, 51.03, 50.84, 50.28, 50.31, 47.48, 41.5, 35.55, 32.9, 34.07, 39.53, 39.83, 38.5, 36.44, 35.71, 33.73, 30.99, 31.85, 34.14, 33.82, 32.14, 32.76\n",
      "Area: Одеська\n",
      "VHI values: 44.72, 45.74, 45.86, 45.3, 45.78, 47.31, 47.84, 47.96, 48.06, 48.19, 48.64, 49.8, 50.6, 52.66, 57.06, 62.63, 69.43, 74.03, 76.21, 75.8, 73.23, 71.36, 70.13, 68.45, 65.87, 63.56, 62.74, 60.9, 58.81, 57.51, 57.25, 57.07, 56.53, 57.68, 58.94, 57.5, 53.43, 49.69, 48.18, 49.11, 49.95, 45.23, 42.53, 40.45, 38.45, 35.88, 33.52, 33.16, 32.64, 29.71, 29.32, 30.54\n",
      "\n",
      "Year: 2000\n",
      "Area: Черкаська\n",
      "VHI values: 35.79, 37.89, 37.46, 36.62, 37.63, 38.49, 36.49, 35.46, 36.99, 38.71, 36.82, 34.78, 33.67, 32.03, 32.38, 35.97, 43.15, 52.06, 57.4, 57.53, 56.7, 55.79, 56.79, 59.94, 62.76, 64.04, 65.3, 67.78, 70.37, 71.76, 72.05, 70.97, 68.82, 65.73, 62.24, 59.68, 58.62, 55.15, 46.29, 34.13, 25.02, 20.16, 19.6, 14.64, 11.82, 10.81, 10.68, 12.3, 14.24, 15.71, 17.45, 22.41\n",
      "Area: Одеська\n",
      "VHI values: 34.57, 38.38, 38.26, 38.16, 38.2, 37.58, 35.42, 34.09, 34.47, 34.36, 33.11, 32.14, 31.36, 31.54, 34.13, 37.46, 42.02, 49.68, 53.8, 53.87, 52.55, 51.26, 50.57, 49.02, 46.97, 46.72, 47.72, 48.31, 48.86, 48.03, 46.17, 43.76, 41.9, 43.18, 47.65, 51.17, 52.14, 53.62, 52.76, 47.86, 42.9, 39.4, 36.13, 30.97, 26.12, 24.08, 22.42, 20.52, 19.33, 17.83, 19.51, 23.45\n",
      "\n",
      "Year: 2001\n",
      "Area: Черкаська\n",
      "VHI values: 40.54, 48.28, 49.73, 49.01, 47.39, 47.47, 46.28, 44.7, 44.99, 46.08, 47.41, 48.89, 50.13, 50.85, 52.27, 54.53, 58.7, 67.77, 76.36, 80.26, 81.93, 82.09, 80.65, 79.13, 76.74, 72.26, 66.42, 61.6, 58.56, 56.03, 53.1, 51.01, 48.51, 45.74, 45.32, 45.82, 47.61, 46.22, 43.6, 46.46, 51.6, 53.16, 56.64, 56.91, 55.99, 54.56, 54.13, 55.07, 55.08, 52.79, 50.38, 49.41\n",
      "Area: Одеська\n",
      "VHI values: 31.91, 39.48, 45.18, 46.57, 47.07, 48.16, 48.58, 49.5, 50.76, 52.37, 53.25, 54.82, 56.0, 57.2, 60.45, 64.16, 67.89, 73.56, 78.47, 80.11, 80.35, 80.03, 79.43, 77.2, 72.35, 66.25, 60.05, 54.61, 50.28, 45.87, 42.64, 40.42, 38.73, 39.56, 42.81, 47.04, 50.79, 52.97, 56.23, 57.49, 57.54, 56.92, 57.76, 58.02, 59.58, 59.87, 60.11, 61.85, 61.33, 59.04, 56.91, 55.64\n",
      "\n"
     ]
    }
   ],
   "source": [
    "def VHI_for_several_years_and_areas(areas, start_year, end_year):\n",
    "    for year in range(start_year, end_year + 1):\n",
    "        print(f\"Year: {year}\")\n",
    "        filtered_data_year = df[df['Year'] == str(year)]\n",
    "        for area in areas:\n",
    "            filtered_data_area = filtered_data_year[filtered_data_year['area'] == area]\n",
    "            print(f\"Area: {area}\")\n",
    "            if not filtered_data_area.empty:\n",
    "                vhi_values = ', '.join(map(str, filtered_data_area['VHI']))\n",
    "                print(f\"VHI values: {vhi_values}\")\n",
    "            else:\n",
    "                print(\"No data available for this area and year.\")\n",
    "        print()\n",
    "areas = ['Черкаська', 'Одеська']\n",
    "start_year = 1999\n",
    "end_year = 2001\n",
    "VHI_for_several_years_and_areas(areas, start_year, end_year)"
   ]
  },
  {
   "cell_type": "markdown",
   "metadata": {},
   "source": [
    "Друга процедура. виявити роки, протягом яких екстремальні посухи торкнулися більше вказаного відсотка областей по Україні (20% областей - 5 областей з 25);"
   ]
  },
  {
   "cell_type": "code",
   "execution_count": 23,
   "metadata": {},
   "outputs": [
    {
     "name": "stdout",
     "output_type": "stream",
     "text": [
      "Years with extreme droughts affecting more than 0.05 of regions:\n",
      "Year: 1986, Affected areas: ['Луганська', 'Донецька'], Lowest VHI value 12.45\n",
      "\n",
      "Year: 1993, Affected areas: ['Луганська', 'Донецька'], Lowest VHI value 6.26\n",
      "\n",
      "Year: 2000, Affected areas: ['Харківська', 'Вінницька', 'Черкаська', 'Київська'], Lowest VHI value 9.36\n",
      "\n",
      "Year: 2007, Affected areas: ['Миколаївська', 'Одеська', 'Херсонська', 'Республіка Крим', 'Запорізька'], Lowest VHI value 5.52\n",
      "\n"
     ]
    }
   ],
   "source": [
    "def extreme_drought(percent=0.2):\n",
    "    extreme_drought_years = []\n",
    "    extreme_drought_areas = {}\n",
    "    for year in df['Year'].unique():\n",
    "        drought_areas = df[(df['Year'] == year) & (df['VHI'] < 15)]['area'].unique()\n",
    "        drought_areas_count = len(drought_areas)\n",
    "        if (drought_areas_count / 25) >= percent:\n",
    "            extreme_drought_years.append(year)\n",
    "            extreme_drought_areas[year] = drought_areas.tolist()\n",
    "    return extreme_drought_years, extreme_drought_areas\n",
    "percent = 0.05\n",
    "extreme_drought_years, extreme_drought_areas = extreme_drought(percent)\n",
    "print(f\"Years with extreme droughts affecting more than {percent} of regions:\")\n",
    "for year in extreme_drought_years:\n",
    "    print(f\"Year: {year}, Affected areas: {extreme_drought_areas[year]}, Lowest VHI value {df[(df['Year'].astype(str) == str(year))]['VHI'].min()}\")\n",
    "    print()"
   ]
  },
  {
   "cell_type": "markdown",
   "metadata": {},
   "source": [
    "Третя процедура. Аналогічно для помірних посух"
   ]
  },
  {
   "cell_type": "code",
   "execution_count": 24,
   "metadata": {},
   "outputs": [
    {
     "name": "stdout",
     "output_type": "stream",
     "text": [
      "Years with extreme droughts affecting more than 95% of regions:\n",
      "Year: 1982, Affected areas: ['Кіровоградська', 'Луганська', 'Львівська', 'Миколаївська', 'Одеська', 'Полтавська', 'Рівенська', 'Сумська', 'Тернопільська', 'Харківська', 'Вінницька', 'Херсонська', 'Хмельницька', 'Черкаська', 'Чернівецька', 'Чернігівська', 'Республіка Крим', 'Волинська', 'Дніпропетровська', 'Донецька', 'Житомирська', 'Закарпатська', 'Запорізька', 'Івано-Франківська', 'Київська']\n",
      "Year: 1983, Affected areas: ['Кіровоградська', 'Луганська', 'Львівська', 'Миколаївська', 'Одеська', 'Полтавська', 'Рівенська', 'Сумська', 'Тернопільська', 'Харківська', 'Вінницька', 'Херсонська', 'Хмельницька', 'Черкаська', 'Чернівецька', 'Чернігівська', 'Республіка Крим', 'Волинська', 'Дніпропетровська', 'Донецька', 'Житомирська', 'Закарпатська', 'Запорізька', 'Івано-Франківська', 'Київська']\n",
      "Year: 1984, Affected areas: ['Кіровоградська', 'Луганська', 'Львівська', 'Миколаївська', 'Полтавська', 'Рівенська', 'Сумська', 'Тернопільська', 'Харківська', 'Вінницька', 'Херсонська', 'Хмельницька', 'Черкаська', 'Чернівецька', 'Чернігівська', 'Республіка Крим', 'Волинська', 'Дніпропетровська', 'Донецька', 'Житомирська', 'Закарпатська', 'Запорізька', 'Івано-Франківська', 'Київська']\n",
      "Year: 1985, Affected areas: ['Кіровоградська', 'Луганська', 'Львівська', 'Миколаївська', 'Одеська', 'Полтавська', 'Рівенська', 'Сумська', 'Тернопільська', 'Харківська', 'Вінницька', 'Херсонська', 'Хмельницька', 'Черкаська', 'Чернівецька', 'Чернігівська', 'Республіка Крим', 'Волинська', 'Дніпропетровська', 'Донецька', 'Закарпатська', 'Запорізька', 'Івано-Франківська', 'Київська']\n",
      "Year: 1986, Affected areas: ['Кіровоградська', 'Луганська', 'Львівська', 'Миколаївська', 'Одеська', 'Полтавська', 'Рівенська', 'Сумська', 'Тернопільська', 'Харківська', 'Вінницька', 'Херсонська', 'Хмельницька', 'Черкаська', 'Чернівецька', 'Чернігівська', 'Республіка Крим', 'Волинська', 'Дніпропетровська', 'Донецька', 'Житомирська', 'Закарпатська', 'Запорізька', 'Івано-Франківська', 'Київська']\n",
      "Year: 1989, Affected areas: ['Кіровоградська', 'Луганська', 'Львівська', 'Миколаївська', 'Одеська', 'Полтавська', 'Рівенська', 'Сумська', 'Тернопільська', 'Харківська', 'Вінницька', 'Херсонська', 'Хмельницька', 'Черкаська', 'Чернівецька', 'Чернігівська', 'Республіка Крим', 'Волинська', 'Дніпропетровська', 'Донецька', 'Житомирська', 'Закарпатська', 'Запорізька', 'Київська']\n",
      "Year: 1995, Affected areas: ['Кіровоградська', 'Луганська', 'Львівська', 'Миколаївська', 'Одеська', 'Полтавська', 'Рівенська', 'Сумська', 'Тернопільська', 'Харківська', 'Вінницька', 'Херсонська', 'Хмельницька', 'Черкаська', 'Чернівецька', 'Чернігівська', 'Республіка Крим', 'Волинська', 'Дніпропетровська', 'Донецька', 'Житомирська', 'Закарпатська', 'Запорізька', 'Київська']\n",
      "Year: 1996, Affected areas: ['Кіровоградська', 'Луганська', 'Львівська', 'Миколаївська', 'Одеська', 'Полтавська', 'Сумська', 'Тернопільська', 'Харківська', 'Вінницька', 'Херсонська', 'Хмельницька', 'Черкаська', 'Чернівецька', 'Чернігівська', 'Республіка Крим', 'Волинська', 'Дніпропетровська', 'Донецька', 'Житомирська', 'Закарпатська', 'Запорізька', 'Івано-Франківська', 'Київська']\n",
      "Year: 2000, Affected areas: ['Кіровоградська', 'Луганська', 'Львівська', 'Миколаївська', 'Одеська', 'Полтавська', 'Рівенська', 'Сумська', 'Тернопільська', 'Харківська', 'Вінницька', 'Херсонська', 'Хмельницька', 'Черкаська', 'Чернівецька', 'Чернігівська', 'Республіка Крим', 'Волинська', 'Дніпропетровська', 'Донецька', 'Житомирська', 'Закарпатська', 'Запорізька', 'Івано-Франківська', 'Київська']\n",
      "Year: 2019, Affected areas: ['Кіровоградська', 'Луганська', 'Львівська', 'Миколаївська', 'Одеська', 'Полтавська', 'Рівенська', 'Сумська', 'Тернопільська', 'Харківська', 'Вінницька', 'Херсонська', 'Хмельницька', 'Черкаська', 'Чернівецька', 'Чернігівська', 'Республіка Крим', 'Дніпропетровська', 'Донецька', 'Житомирська', 'Закарпатська', 'Запорізька', 'Івано-Франківська', 'Київська']\n"
     ]
    }
   ],
   "source": [
    "def moderate_drought():\n",
    "    moderate_drought_years = []\n",
    "    moderate_drought_areas = {}\n",
    "    for year in df['Year'].unique():\n",
    "        drought_areas = df[(df['Year'] == year) & (df['VHI'] > 15) & (df['VHI'] < 35)]['area'].unique()\n",
    "        drought_areas_count = len(drought_areas)\n",
    "        if (drought_areas_count / 25) >= 0.95:\n",
    "            moderate_drought_years.append(year)\n",
    "            moderate_drought_areas[year] = drought_areas.tolist()\n",
    "    return moderate_drought_years, moderate_drought_areas\n",
    "\n",
    "extreme_drought_years, moderate_drought_areas = moderate_drought()\n",
    "print(\"Years with extreme droughts affecting more than 95% of regions:\")\n",
    "for year in extreme_drought_years:\n",
    "    print(f\"Year: {year}, Affected areas: {moderate_drought_areas[year]}\")"
   ]
  }
 ],
 "metadata": {
  "kernelspec": {
   "display_name": "Python 3",
   "language": "python",
   "name": "python3"
  },
  "language_info": {
   "codemirror_mode": {
    "name": "ipython",
    "version": 3
   },
   "file_extension": ".py",
   "mimetype": "text/x-python",
   "name": "python",
   "nbconvert_exporter": "python",
   "pygments_lexer": "ipython3",
   "version": "3.11.8"
  }
 },
 "nbformat": 4,
 "nbformat_minor": 2
}
